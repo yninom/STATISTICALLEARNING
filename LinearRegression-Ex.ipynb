{
 "cells": [
  {
   "cell_type": "markdown",
   "id": "ff29b1ca",
   "metadata": {},
   "source": [
    "# Linear Regression\n",
    "\n",
    "Linear regression is one of the simplest models there is. It assumes that there is a linear relation between the attributes to the target variable. It is very simple but it also works very good. \n",
    "\n",
    "\"All models are wrong, but some are useful\".  \n",
    "-- <cite> George Box.\n",
    "    \n",
    "What it is trying to find is the relationship:\n",
    "$$Y = \\beta_{0} + \\beta_{1}X$$\n",
    "Which is basically the line equation. We want to find those coefficients, beta 0 and beta 1. It can be extended to n attributes and n + 1 unknown coefficients.\n",
    "\n",
    "Here we are dealing with estimates, not the true value, so we can use the following formula:\n",
    "    \n",
    "$$\\hat{y}_{i} = \\hat{\\beta}_{0} + \\hat{\\beta}_{1}*x_{i}$$\n",
    "\n",
    "Which is the prediction of our regression. Then, we need the residual, which is:\n",
    "$$e_{i} = y_{i} - \\hat{y}_{i}$$\n",
    "    \n",
    "The true value minus the predicted value for the i point. The sum of all the squared errors is the function that the regression must minimize.\n",
    "    $$RSS = e^{2}_{1} + e^{2}_{2} + ... + e^{2}_{n}$$\n",
    "But we can expand that expression into:\n",
    "$$RSS = (y_{1} - \\hat{y}_{1})^{2} + (y_{2} - \\hat{y}_{2})^{2} + ... + (y_{n} - \\hat{y}_{n})^{2}$$\n",
    "\n",
    "Even more:\n",
    "$$RSS = (y_{1} - \\hat{\\beta}_{0} + \\hat{\\beta}_{1}*x_{1})^{2} + (y_{2} - \\hat{\\beta}_{0} + \\hat{\\beta}_{1}*x_{2})^{2} + ... + (y_{n} - \\hat{\\beta}_{0} + \\hat{\\beta}_{1}*x_{3})^{2}$$\n",
    "    \n",
    "They way of minimizing the RSS, the algorithm will find the $\\beta_{0}$ and $\\beta_{1}$ that optimize the function.\n",
    "    \n",
    "$$\\hat{\\beta_{1}} = \\frac{\\sum^{n}_{i=1} (x_{i} - \\bar{x})(y_{i} - \\bar{y})}{\\sum^{n}_{i=1} (x_{i}-\\bar{x})^{2}}$$\n",
    "$$\\hat{\\beta_{0}} = \\bar{y} - \\hat{\\beta_{1}} * \\bar{x}$$"
   ]
  },
  {
   "cell_type": "markdown",
   "id": "4df754a9",
   "metadata": {},
   "source": [
    "Now, implement a linear regression without sklearn. In other words, find both coefficients and the Residual Sum of Squares (RSS). We are using a dataset about Teen Birth Rate. We want to predict the teen birth rate depending on the poverty of the state. The dataset is from the United States."
   ]
  },
  {
   "cell_type": "code",
   "execution_count": 1,
   "id": "29cae812",
   "metadata": {},
   "outputs": [],
   "source": [
    "import pandas as pd\n",
    "import numpy as np\n",
    "import matplotlib.pyplot as plt"
   ]
  },
  {
   "cell_type": "code",
   "execution_count": 2,
   "id": "84abdd6b",
   "metadata": {},
   "outputs": [],
   "source": [
    "data = pd.read_csv('OLSDataset.txt',sep='\\s+')"
   ]
  },
  {
   "cell_type": "code",
   "execution_count": 4,
   "id": "d49af535",
   "metadata": {},
   "outputs": [
    {
     "data": {
      "text/plain": [
       "<matplotlib.collections.PathCollection at 0x204751c6e80>"
      ]
     },
     "execution_count": 4,
     "metadata": {},
     "output_type": "execute_result"
    },
    {
     "data": {
      "image/png": "[encoded data removed]",
      "text/plain": [
       "<Figure size 432x288 with 1 Axes>"
      ]
     },
     "metadata": {
      "needs_background": "light"
     },
     "output_type": "display_data"
    }
   ],
   "source": [
    "plt.scatter(data['PovPct'], data['TeenBrth']) "
   ]
  },
  {
   "cell_type": "code",
   "execution_count": 10,
   "id": "2b1a01a9",
   "metadata": {},
   "outputs": [
    {
     "data": {
      "image/png": "[encoded data removed]",
      "text/plain": [
       "<Figure size 432x288 with 1 Axes>"
      ]
     },
     "metadata": {
      "needs_background": "light"
     },
     "output_type": "display_data"
    }
   ],
   "source": [
    "plt.scatter(data['PovPct'], data['TeenBrth']) \n",
    "plt.plot(data['PovPct'],y_hat,color='r')\n",
    "plt.xlabel(\"PovPct\")\n",
    "plt.ylabel(\"TeenBrth\")\n",
    "\n",
    "plt.show()"
   ]
  },
  {
   "cell_type": "markdown",
   "id": "9c2c41e2",
   "metadata": {},
   "source": [
    "## Exercise\n",
    "\n",
    "This time, do it the right way. Do a regression for three different train and test divisions, and then calculate the MSE for each one. Plot the three regressions."
   ]
  },
  {
   "cell_type": "markdown",
   "id": "f306c48c",
   "metadata": {},
   "source": [
    "# Multiple Linear Regression\n",
    "\n",
    "The same can be done but with multiple attributes. In this case, there will be one coefficient for each attribute:  \n",
    "\n",
    "$$y = \\beta_{0} + \\beta_{1}x_{1} + \\beta_{2}x_{2} + ... + \\beta_{n}x_{n} + \\epsilon$$  \n"
   ]
  },
  {
   "cell_type": "markdown",
   "id": "990063d3",
   "metadata": {},
   "source": [
    "Use the following dataset, to predict the G3 column. It is the grade of the year for the students. Multiple variables are categorical, remember to convert them to numerical. Other columns might not add value to the prediction, so you can also do some feature engineering. \n",
    "\n",
    "Usually while computing regression, we need to add a new column for the intercept term, in the data. That way we can do:\n",
    "$$f(x') = \\beta^{'T}x'$$\n",
    "Because $\\beta'$ will contain the intercept term, $\\beta' = (\\beta_{0},\\beta_{1},...,\\beta_{n})$\n",
    "\n",
    "That gives us the following equation:\n",
    "\n",
    "$$y = X*\\beta+\\epsilon$$\n",
    "\n",
    "The optimization problem is to find the $\\hat\\beta$ that minimize the loss $L(\\hat{\\beta}) = \\hat{\\epsilon}^{T}\\hat{\\epsilon}$\n",
    "The solution is:\n",
    "\n",
    "$$\\hat{\\beta} = (X^{T}X)^{-1}X^{T}y$$\n",
    "\n",
    "Inverting takes $O(n^{3})$ so it is unfeasible for datasets with many dimensions."
   ]
  },
  {
   "cell_type": "code",
   "execution_count": 12,
   "id": "90a1a609",
   "metadata": {},
   "outputs": [],
   "source": [
    "X = data[['PovPct','ViolCrime']]\n",
    "y = data['TeenBrth']"
   ]
  },
  {
   "cell_type": "code",
   "execution_count": 14,
   "id": "11ee80fb",
   "metadata": {},
   "outputs": [],
   "source": [
    "X = X.to_numpy()\n",
    "y = y.to_numpy()"
   ]
  },
  {
   "cell_type": "code",
   "execution_count": 19,
   "id": "20cf46c4",
   "metadata": {},
   "outputs": [
    {
     "name": "stderr",
     "output_type": "stream",
     "text": [
      "C:\\Users\\srodriguezb\\Anaconda3\\lib\\site-packages\\statsmodels\\tsa\\base\\tsa_model.py:7: FutureWarning: pandas.Int64Index is deprecated and will be removed from pandas in a future version. Use pandas.Index with the appropriate dtype instead.\n",
      "  from pandas import (to_datetime, Int64Index, DatetimeIndex, Period,\n",
      "C:\\Users\\srodriguezb\\Anaconda3\\lib\\site-packages\\statsmodels\\tsa\\base\\tsa_model.py:7: FutureWarning: pandas.Float64Index is deprecated and will be removed from pandas in a future version. Use pandas.Index with the appropriate dtype instead.\n",
      "  from pandas import (to_datetime, Int64Index, DatetimeIndex, Period,\n"
     ]
    }
   ],
   "source": [
    "import statsmodels.api as sm"
   ]
  },
  {
   "cell_type": "markdown",
   "id": "4ac44e16",
   "metadata": {},
   "source": [
    "# Polynomial Regression\n",
    "\n",
    "What if the data is not linear? In that case, a linear regression wouldn't work because it does not capture how the data is. Then, we can try to fit a regression but in a with a higher polynomial. This can be done by transforming the data in the following way:\n",
    "\n",
    "\n",
    "$$X = \\begin{pmatrix}\n",
    "1 & x_{1} & x_{1}^{2} & x_{1}^{3}\\\\\n",
    "1 & x_{2} & x_{2}^{2} & x_{2}^{3}\\\\\n",
    "\\vdots & \\vdots & \\vdots & \\vdots \\\\\n",
    "1 & x_{3} & x_{3}^{2} & x_{3}^{3}\\\\\n",
    "\\end{pmatrix}$$\n",
    "\n",
    "We take each input and take it into a higher polynomial. Also, include the intercept term. We can do it again by hand, but in this case, we are going to use our friend Sklearn."
   ]
  },
  {
   "cell_type": "code",
   "execution_count": 29,
   "id": "2b9014a0",
   "metadata": {},
   "outputs": [],
   "source": [
    "from sklearn.preprocessing import PolynomialFeatures\n",
    "from sklearn.pipeline import make_pipeline\n",
    "from sklearn.linear_model import LinearRegression"
   ]
  },
  {
   "cell_type": "code",
   "execution_count": 25,
   "id": "382d16c4",
   "metadata": {},
   "outputs": [],
   "source": [
    "def functionf(x):\n",
    "    arr = []\n",
    "    for i in x:\n",
    "        arr.append(2-i+(i**2))\n",
    "    return np.array(arr)"
   ]
  },
  {
   "cell_type": "code",
   "execution_count": 26,
   "id": "1699eb9b",
   "metadata": {},
   "outputs": [],
   "source": [
    "def sample_ds(n):\n",
    "    x = np.random.uniform(-3,3,n)\n",
    "    e = np.random.normal(0,0.4,n)\n",
    "    y = np.add(functionf(x),e)\n",
    "    return x,y"
   ]
  },
  {
   "cell_type": "markdown",
   "id": "0e907ea7",
   "metadata": {},
   "source": [
    "## Exercise\n",
    "\n",
    "Train a linear regression for polynomials between 1 and 8, calculate the MSE for training set, validation set and test set. Generate a train set of 10 points, then a validation set of 10 points and then a test set of 1000 points. Fit a linear regression with polynomial features."
   ]
  },
  {
   "cell_type": "code",
   "execution_count": 34,
   "id": "acf81310",
   "metadata": {},
   "outputs": [
    {
     "data": {
      "image/png": "[encoded data removed]",
      "text/plain": [
       "<Figure size 432x288 with 1 Axes>"
      ]
     },
     "metadata": {
      "needs_background": "light"
     },
     "output_type": "display_data"
    }
   ],
   "source": []
  },
  {
   "cell_type": "code",
   "execution_count": null,
   "id": "09608792",
   "metadata": {},
   "outputs": [],
   "source": []
  }
 ],
 "metadata": {
  "kernelspec": {
   "display_name": "Python 3 (ipykernel)",
   "language": "python",
   "name": "python3"
  },
  "language_info": {
   "codemirror_mode": {
    "name": "ipython",
    "version": 3
   },
   "file_extension": ".py",
   "mimetype": "text/x-python",
   "name": "python",
   "nbconvert_exporter": "python",
   "pygments_lexer": "ipython3",
   "version": "3.9.7"
  }
 },
 "nbformat": 4,
 "nbformat_minor": 5
}
