{
 "cells": [
  {
   "attachments": {},
   "cell_type": "markdown",
   "metadata": {},
   "source": [
    "# Logistic Regression for Adult Dataset"
   ]
  },
  {
   "attachments": {},
   "cell_type": "markdown",
   "metadata": {},
   "source": [
    "# Just for on attribute"
   ]
  },
  {
   "cell_type": "code",
   "execution_count": 88,
   "metadata": {},
   "outputs": [],
   "source": [
    "from sklearn.model_selection import train_test_split\n",
    "import numpy as np\n",
    "import pandas as pd\n",
    "#suppress warnings\n",
    "import warnings\n",
    "warnings.filterwarnings('ignore')"
   ]
  },
  {
   "cell_type": "code",
   "execution_count": 89,
   "metadata": {},
   "outputs": [],
   "source": [
    "# Load the Adult dataset\n",
    "url = 'https://archive.ics.uci.edu/ml/machine-learning-databases/adult/adult.data'\n",
    "adult = pd.read_csv(url, header=None, index_col=False, names=['age', 'workclass', 'fnlwgt', 'education', \n",
    "        'education-num', 'marital-status','occupation', 'relationship', 'race', 'sex', \n",
    "        'capital-gain', 'capital-loss','hours-per-week', 'native-country', 'income'])\n",
    "\n",
    "# Convert categorical variables to numeric\n",
    "categorical_columns = ['workclass', 'education', 'marital-status', 'occupation', \n",
    "                       'relationship', 'race', 'sex','native-country', 'income']\n",
    "for column in categorical_columns:\n",
    "    adult[column] = adult[column].astype('category').cat.codes"
   ]
  },
  {
   "cell_type": "code",
   "execution_count": 90,
   "metadata": {},
   "outputs": [],
   "source": [
    "class LogisticRegression:\n",
    "    #learning rate usually is small, between 0 and 1\n",
    "    #iterations for the gradient descent\n",
    "    def __init__(self, alpha=0.001, N=1000):\n",
    "        self.alpha = alpha\n",
    "        self.N = N\n",
    "        self.weights = None\n",
    "        self.intercept = None\n",
    "\n",
    "    def fit(self, X, y):\n",
    "        #X training samples, y training labels\n",
    "        n_samples, n_features = X.shape\n",
    "        #rows are samples, columns are attributes\n",
    "\n",
    "        #init parameters\n",
    "        self.weights = np.zeros(n_features) #we can use random numbers too\n",
    "        self.intercept = 0\n",
    "\n",
    "        #calculate gradient descent\n",
    "        for _ in range(self.N): #_ because we dont need it later\n",
    "            #approximate y with linear combination of weights and x, plus intercept\n",
    "            linear_model = np.dot(X, self.weights) + self.intercept \n",
    "            #apply sigmoid function to the linear approx\n",
    "            y_predicted = self._sigmoid(linear_model)\n",
    "\n",
    "            #calculate the gradients, this update the weights in the logistic regression\n",
    "            dw = (1 / n_samples) * np.dot(X.T, (y_predicted - y))\n",
    "            db = (1 / n_samples) * np.sum(y_predicted - y)\n",
    "            \n",
    "            #update the weights and intercept\n",
    "            self.weights -= self.alpha * dw\n",
    "            self.intercept -= self.alpha * db\n",
    "\n",
    "    def predict(self, X):\n",
    "        #X will be the test samples\n",
    "        linear_model = np.dot(X, self.weights) + self.intercept\n",
    "        y_predicted = self._sigmoid(linear_model)\n",
    "        y_predicted_class = [1 if i > 0.5 else 0 for i in y_predicted]\n",
    "        return np.array(y_predicted_class)\n",
    "\n",
    "    def _sigmoid(self, x):\n",
    "        return 1 / (1 + np.exp(-x))"
   ]
  },
  {
   "cell_type": "code",
   "execution_count": 91,
   "metadata": {},
   "outputs": [],
   "source": [
    "#choose an attribute\n",
    "X1 = adult[['capital-gain']] #'education-num', 'capital-loss', 'age', 'hours-per-week', 'capital-gain' \n",
    "y = adult['income']\n",
    "\n",
    "X1_train, X1_test, y1_train, y1_test = train_test_split(X1, y, test_size=0.3, random_state=42)"
   ]
  },
  {
   "cell_type": "code",
   "execution_count": 92,
   "metadata": {},
   "outputs": [
    {
     "name": "stdout",
     "output_type": "stream",
     "text": [
      "Logistic Regression classification accuracy: 0.7823728119561879\n"
     ]
    }
   ],
   "source": [
    "def accuracy(y_true, y_pred):\n",
    "    accuracy = np.sum(y_true == y_pred) / len(y_true)\n",
    "    return accuracy\n",
    "\n",
    "regressor = LogisticRegression(alpha=0.0001, N=1000)\n",
    "regressor.fit(X1_train, y1_train)\n",
    "predictions = regressor.predict(X1_test)\n",
    "\n",
    "print(\"Logistic Regression classification accuracy:\", accuracy(y1_test, predictions))"
   ]
  },
  {
   "attachments": {},
   "cell_type": "markdown",
   "metadata": {},
   "source": [
    "# For two attributes"
   ]
  },
  {
   "cell_type": "code",
   "execution_count": 93,
   "metadata": {},
   "outputs": [],
   "source": [
    "X2 = adult[['age', 'education-num']]\n",
    "X2_train, X2_test, y2_train, y2_test = train_test_split(X2, y, test_size=0.3, random_state=42)"
   ]
  },
  {
   "cell_type": "code",
   "execution_count": 95,
   "metadata": {},
   "outputs": [
    {
     "name": "stdout",
     "output_type": "stream",
     "text": [
      "Logistic Regression classification accuracy: 0.7631282628723514\n"
     ]
    }
   ],
   "source": [
    "def accuracy(y_true, y_pred):\n",
    "    accuracy = np.sum(y_true == y_pred) / len(y_true)\n",
    "    return accuracy\n",
    "\n",
    "regressor = LogisticRegression(alpha=0.0001, N=1000)\n",
    "regressor.fit(X2_train, y2_train)\n",
    "predictions = regressor.predict(X2_test)\n",
    "\n",
    "print(\"Logistic Regression classification accuracy:\", accuracy(y2_test, predictions))"
   ]
  }
 ],
 "metadata": {
  "kernelspec": {
   "display_name": "homeworks",
   "language": "python",
   "name": "python3"
  },
  "language_info": {
   "codemirror_mode": {
    "name": "ipython",
    "version": 3
   },
   "file_extension": ".py",
   "mimetype": "text/x-python",
   "name": "python",
   "nbconvert_exporter": "python",
   "pygments_lexer": "ipython3",
   "version": "3.11.2"
  },
  "orig_nbformat": 4
 },
 "nbformat": 4,
 "nbformat_minor": 2
}
