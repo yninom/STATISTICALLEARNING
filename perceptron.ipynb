{
 "cells": [
  {
   "attachments": {},
   "cell_type": "markdown",
   "metadata": {},
   "source": [
    "# Perceptron Implementation on the MNIST Dataset"
   ]
  },
  {
   "cell_type": "code",
   "execution_count": 102,
   "metadata": {},
   "outputs": [],
   "source": [
    "from sklearn.datasets import load_digits\n",
    "from sklearn.model_selection import train_test_split\n",
    "import numpy as np\n",
    "import pandas as pd"
   ]
  },
  {
   "cell_type": "code",
   "execution_count": 103,
   "metadata": {},
   "outputs": [
    {
     "data": {
      "text/plain": [
       "array([[ 0.,  0.,  5., ...,  0.,  0.,  0.],\n",
       "       [ 0.,  0.,  0., ..., 10.,  0.,  0.],\n",
       "       [ 0.,  0.,  0., ..., 16.,  9.,  0.],\n",
       "       ...,\n",
       "       [ 0.,  0.,  1., ...,  6.,  0.,  0.],\n",
       "       [ 0.,  0.,  2., ..., 12.,  0.,  0.],\n",
       "       [ 0.,  0., 10., ..., 12.,  1.,  0.]])"
      ]
     },
     "execution_count": 103,
     "metadata": {},
     "output_type": "execute_result"
    }
   ],
   "source": [
    "mnist = load_digits()\n",
    "mnist.data"
   ]
  },
  {
   "cell_type": "code",
   "execution_count": 104,
   "metadata": {},
   "outputs": [
    {
     "name": "stdout",
     "output_type": "stream",
     "text": [
      "    0    1    2     3     4     5    6    7    8    9   ...   54   55   56  \\\n",
      "0  0.0  0.0  5.0  13.0   9.0   1.0  0.0  0.0  0.0  0.0  ...  0.0  0.0  0.0   \n",
      "1  0.0  0.0  0.0  12.0  13.0   5.0  0.0  0.0  0.0  0.0  ...  0.0  0.0  0.0   \n",
      "2  0.0  0.0  0.0   4.0  15.0  12.0  0.0  0.0  0.0  0.0  ...  5.0  0.0  0.0   \n",
      "3  0.0  0.0  7.0  15.0  13.0   1.0  0.0  0.0  0.0  8.0  ...  9.0  0.0  0.0   \n",
      "4  0.0  0.0  0.0   1.0  11.0   0.0  0.0  0.0  0.0  0.0  ...  0.0  0.0  0.0   \n",
      "\n",
      "    57   58    59    60    61   62   63  \n",
      "0  0.0  6.0  13.0  10.0   0.0  0.0  0.0  \n",
      "1  0.0  0.0  11.0  16.0  10.0  0.0  0.0  \n",
      "2  0.0  0.0   3.0  11.0  16.0  9.0  0.0  \n",
      "3  0.0  7.0  13.0  13.0   9.0  0.0  0.0  \n",
      "4  0.0  0.0   2.0  16.0   4.0  0.0  0.0  \n",
      "\n",
      "[5 rows x 64 columns]\n"
     ]
    }
   ],
   "source": [
    "digits = pd.DataFrame(mnist.data)\n",
    "print(digits.head())"
   ]
  },
  {
   "cell_type": "code",
   "execution_count": 105,
   "metadata": {},
   "outputs": [
    {
     "data": {
      "text/plain": [
       "array([0, 1, 2, ..., 8, 9, 8])"
      ]
     },
     "execution_count": 105,
     "metadata": {},
     "output_type": "execute_result"
    }
   ],
   "source": [
    "mnist.target"
   ]
  },
  {
   "cell_type": "code",
   "execution_count": 106,
   "metadata": {},
   "outputs": [],
   "source": [
    "#digits_norm = (digits-digits.min().min())/(digits.max().max()-digits.min().min())"
   ]
  },
  {
   "cell_type": "code",
   "execution_count": 107,
   "metadata": {},
   "outputs": [],
   "source": [
    "#Choose only two classes\n",
    "class_1 = 1\n",
    "class_0 = 7\n",
    "selected_data = mnist.data[(mnist.target == class_1) | (mnist.target == class_0)]\n",
    "selected_target = mnist.target[(mnist.target == class_1) | (mnist.target == class_0)]\n",
    "selected_target1 = (selected_target == class_1).astype(int)  #convert the labels to 0 or 1"
   ]
  },
  {
   "cell_type": "code",
   "execution_count": 108,
   "metadata": {},
   "outputs": [],
   "source": [
    "X_train, X_test, y_train, y_test = train_test_split(selected_data, selected_target1, test_size=0.3, random_state=42)"
   ]
  },
  {
   "cell_type": "code",
   "execution_count": 109,
   "metadata": {},
   "outputs": [],
   "source": [
    "def perceptron (X, y, alpha, N):\n",
    "    learning_rate = alpha   #between 0 and 1\n",
    "    iterations = N    #number of iterations\n",
    "    \n",
    "    weights = np.zeros(X.shape[1]) \n",
    "    intercept = 0\n",
    "    \n",
    "    for _ in range(iterations):\n",
    "        for xi, yi in zip(X,y):\n",
    "            #calculate the product between the features and the weights\n",
    "            z = np.dot(xi, weights) + intercept\n",
    "            \n",
    "            # Apply step function to get binary prediction\n",
    "            if z >= 0:\n",
    "                y_pred = 1\n",
    "            else:\n",
    "                y_pred = 0\n",
    "                \n",
    "            # Update weights and intercept if prediction is incorrect\n",
    "            if y_pred != yi:\n",
    "                weights += learning_rate * yi * xi\n",
    "                intercept += learning_rate * yi\n",
    "    \n",
    "    return weights, intercept"
   ]
  },
  {
   "cell_type": "code",
   "execution_count": 110,
   "metadata": {},
   "outputs": [
    {
     "name": "stdout",
     "output_type": "stream",
     "text": [
      "Accuracy: 0.5412844036697247\n"
     ]
    }
   ],
   "source": [
    "weights, intercept = perceptron(X_train, y_train, alpha=0.001, N=1000)\n",
    "\n",
    "# Predict classes for test data\n",
    "y_pred = []\n",
    "for xi in X_test:\n",
    "    z = np.dot(xi, weights) + intercept\n",
    "    if z >= 0:\n",
    "        y_pred.append(1)\n",
    "    else:\n",
    "        y_pred.append(0)\n",
    "\n",
    "# Calculate accuracy\n",
    "accuracy = np.mean(np.array(y_pred) == y_test)\n",
    "print(\"Accuracy:\", accuracy)"
   ]
  },
  {
   "attachments": {},
   "cell_type": "markdown",
   "metadata": {},
   "source": [
    "# Hyperparameters"
   ]
  },
  {
   "cell_type": "code",
   "execution_count": 111,
   "metadata": {},
   "outputs": [
    {
     "data": {
      "image/png": "[encoded data removed]",
      "text/plain": [
       "<Figure size 640x480 with 1 Axes>"
      ]
     },
     "metadata": {},
     "output_type": "display_data"
    }
   ],
   "source": [
    "import matplotlib.pyplot as plt\n",
    "\n",
    "alphas = [0.001, 0.01, 0.1, 1, 10] # lista de valores para alpha\n",
    "accuracies = []\n",
    "\n",
    "for alpha in alphas:\n",
    "    weights, intercept = perceptron(X_train, y_train, alpha=alpha, N=1000)\n",
    "    y_pred = []\n",
    "    for xi in X_test:\n",
    "        z = np.dot(xi, weights) + intercept\n",
    "        if z >= 0:\n",
    "            y_pred.append(1)\n",
    "        else:\n",
    "            y_pred.append(0)\n",
    "    accuracy = np.mean(np.array(y_pred) == y_test)\n",
    "    accuracies.append(accuracy)\n",
    "\n",
    "plt.plot(alphas, accuracies, '-o')\n",
    "plt.xscale('log')\n",
    "plt.xlabel('Alpha (log scale)')\n",
    "plt.ylabel('Accuracy')\n",
    "plt.title('Effect of Learning Rate on Model Accuracy')\n",
    "plt.show()"
   ]
  },
  {
   "cell_type": "code",
   "execution_count": 112,
   "metadata": {},
   "outputs": [
    {
     "data": {
      "image/png": "[encoded data removed]",
      "text/plain": [
       "<Figure size 640x480 with 1 Axes>"
      ]
     },
     "metadata": {},
     "output_type": "display_data"
    }
   ],
   "source": [
    "import matplotlib.pyplot as plt\n",
    "\n",
    "Ns = [10, 100, 1000, 10000] # lista de valores para alpha\n",
    "accuracies = []\n",
    "\n",
    "for N in Ns:\n",
    "    weights, intercept = perceptron(X_train, y_train, alpha=0.001, N=N)\n",
    "    y_pred = []\n",
    "    for xi in X_test:\n",
    "        z = np.dot(xi, weights) + intercept\n",
    "        if z >= 0:\n",
    "            y_pred.append(1)\n",
    "        else:\n",
    "            y_pred.append(0)\n",
    "    accuracy = np.mean(np.array(y_pred) == y_test)\n",
    "    accuracies.append(accuracy)\n",
    "\n",
    "plt.plot(Ns, accuracies, '-o')\n",
    "plt.xscale('log')\n",
    "plt.xlabel('N (log scale)')\n",
    "plt.ylabel('Accuracy')\n",
    "plt.title('Effect of Number of Iterations on Model Accuracy')\n",
    "plt.show()"
   ]
  }
 ],
 "metadata": {
  "kernelspec": {
   "display_name": "homeworks",
   "language": "python",
   "name": "python3"
  },
  "language_info": {
   "codemirror_mode": {
    "name": "ipython",
    "version": 3
   },
   "file_extension": ".py",
   "mimetype": "text/x-python",
   "name": "python",
   "nbconvert_exporter": "python",
   "pygments_lexer": "ipython3",
   "version": "3.11.2"
  },
  "orig_nbformat": 4
 },
 "nbformat": 4,
 "nbformat_minor": 2
}
